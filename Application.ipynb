{
  "nbformat": 4,
  "nbformat_minor": 0,
  "metadata": {
    "colab": {
      "provenance": [],
      "authorship_tag": "ABX9TyMMrdqlb9xvCmu8lVE032vB",
      "include_colab_link": true
    },
    "kernelspec": {
      "name": "python3",
      "display_name": "Python 3"
    },
    "language_info": {
      "name": "python"
    }
  },
  "cells": [
    {
      "cell_type": "markdown",
      "metadata": {
        "id": "view-in-github",
        "colab_type": "text"
      },
      "source": [
        "<a href=\"https://colab.research.google.com/github/rehansher9/Temp_converter/blob/main/Application.ipynb\" target=\"_parent\"><img src=\"https://colab.research.google.com/assets/colab-badge.svg\" alt=\"Open In Colab\"/></a>"
      ]
    },
    {
      "cell_type": "code",
      "execution_count": 1,
      "metadata": {
        "colab": {
          "base_uri": "https://localhost:8080/"
        },
        "id": "R-F4Mxwmar0u",
        "outputId": "865427e0-43d3-4a57-caa4-32fb57027365"
      },
      "outputs": [
        {
          "output_type": "stream",
          "name": "stdout",
          "text": [
            "Temperature Converter\n",
            "1. Celsius to Fahrenheit\n",
            "2. Fahrenheit to Celsius\n",
            "Choose the conversion (1 or 2): 1\n",
            "Enter temperature in Celsius: 39\n",
            "39.0°C is equal to 102.20°F\n"
          ]
        }
      ],
      "source": [
        "def celsius_to_fahrenheit(celsius):\n",
        "    return (celsius * 9/5) + 32\n",
        "\n",
        "def fahrenheit_to_celsius(fahrenheit):\n",
        "    return (fahrenheit - 32) * 5/9\n",
        "\n",
        "def temperature_converter():\n",
        "    print(\"Temperature Converter\")\n",
        "    print(\"1. Celsius to Fahrenheit\")\n",
        "    print(\"2. Fahrenheit to Celsius\")\n",
        "\n",
        "    choice = input(\"Choose the conversion (1 or 2): \")\n",
        "\n",
        "    if choice == '1':\n",
        "        celsius = float(input(\"Enter temperature in Celsius: \"))\n",
        "        fahrenheit = celsius_to_fahrenheit(celsius)\n",
        "        print(f\"{celsius}°C is equal to {fahrenheit:.2f}°F\")\n",
        "    elif choice == '2':\n",
        "        fahrenheit = float(input(\"Enter temperature in Fahrenheit: \"))\n",
        "        celsius = fahrenheit_to_celsius(fahrenheit)\n",
        "        print(f\"{fahrenheit}°F is equal to {celsius:.2f}°C\")\n",
        "    else:\n",
        "        print(\"Invalid choice. Please select 1 or 2.\")\n",
        "\n",
        "# Run the converter\n",
        "temperature_converter()\n"
      ]
    }
  ]
}